{
 "cells": [
  {
   "cell_type": "code",
   "execution_count": 200,
   "metadata": {},
   "outputs": [],
   "source": [
    "import pandas as pd\n",
    "import numpy as np\n",
    "import matplotlib.pyplot as plt\n",
    "import seaborn as sns\n",
    "pd.set_option('display.max_columns', None)\n",
    "pd.set_option('display.max_rows', None)"
   ]
  },
  {
   "cell_type": "code",
   "execution_count": 201,
   "metadata": {},
   "outputs": [],
   "source": [
    "data=pd.read_csv('Mental_health_data.csv')"
   ]
  },
  {
   "cell_type": "code",
   "execution_count": 202,
   "metadata": {},
   "outputs": [
    {
     "data": {
      "text/html": [
       "<div>\n",
       "<style scoped>\n",
       "    .dataframe tbody tr th:only-of-type {\n",
       "        vertical-align: middle;\n",
       "    }\n",
       "\n",
       "    .dataframe tbody tr th {\n",
       "        vertical-align: top;\n",
       "    }\n",
       "\n",
       "    .dataframe thead th {\n",
       "        text-align: right;\n",
       "    }\n",
       "</style>\n",
       "<table border=\"1\" class=\"dataframe\">\n",
       "  <thead>\n",
       "    <tr style=\"text-align: right;\">\n",
       "      <th></th>\n",
       "      <th>Emp_ID</th>\n",
       "      <th>Age</th>\n",
       "      <th>Gender</th>\n",
       "      <th>family_history</th>\n",
       "      <th>treatment</th>\n",
       "      <th>work_interfere</th>\n",
       "      <th>remote_work</th>\n",
       "      <th>benefits</th>\n",
       "      <th>wellness_program</th>\n",
       "      <th>seek_help</th>\n",
       "      <th>anonymity</th>\n",
       "      <th>mental_health_consequence</th>\n",
       "      <th>phys_health_consequence</th>\n",
       "      <th>coworkers</th>\n",
       "      <th>supervisor</th>\n",
       "      <th>mental_health_interview</th>\n",
       "      <th>phys_health_interview</th>\n",
       "      <th>mental_vs_physical</th>\n",
       "      <th>leave</th>\n",
       "    </tr>\n",
       "  </thead>\n",
       "  <tbody>\n",
       "    <tr>\n",
       "      <th>0</th>\n",
       "      <td>1000</td>\n",
       "      <td>37.0</td>\n",
       "      <td>Female</td>\n",
       "      <td>No</td>\n",
       "      <td>Yes</td>\n",
       "      <td>Often</td>\n",
       "      <td>No</td>\n",
       "      <td>Yes</td>\n",
       "      <td>No</td>\n",
       "      <td>Yes</td>\n",
       "      <td>Yes</td>\n",
       "      <td>No</td>\n",
       "      <td>No</td>\n",
       "      <td>Some of them</td>\n",
       "      <td>Yes</td>\n",
       "      <td>No</td>\n",
       "      <td>Maybe</td>\n",
       "      <td>Yes</td>\n",
       "      <td>Somewhat easy</td>\n",
       "    </tr>\n",
       "    <tr>\n",
       "      <th>1</th>\n",
       "      <td>1001</td>\n",
       "      <td>44.0</td>\n",
       "      <td>Male</td>\n",
       "      <td>No</td>\n",
       "      <td>No</td>\n",
       "      <td>Rarely</td>\n",
       "      <td>No</td>\n",
       "      <td>Don't know</td>\n",
       "      <td>Don't know</td>\n",
       "      <td>Don't know</td>\n",
       "      <td>Don't know</td>\n",
       "      <td>Maybe</td>\n",
       "      <td>No</td>\n",
       "      <td>No</td>\n",
       "      <td>No</td>\n",
       "      <td>No</td>\n",
       "      <td>No</td>\n",
       "      <td>Don't know</td>\n",
       "      <td>Don't know</td>\n",
       "    </tr>\n",
       "    <tr>\n",
       "      <th>2</th>\n",
       "      <td>1002</td>\n",
       "      <td>32.0</td>\n",
       "      <td>Male</td>\n",
       "      <td>No</td>\n",
       "      <td>No</td>\n",
       "      <td>Rarely</td>\n",
       "      <td>No</td>\n",
       "      <td>No</td>\n",
       "      <td>No</td>\n",
       "      <td>No</td>\n",
       "      <td>Don't know</td>\n",
       "      <td>No</td>\n",
       "      <td>No</td>\n",
       "      <td>Yes</td>\n",
       "      <td>Yes</td>\n",
       "      <td>Yes</td>\n",
       "      <td>Yes</td>\n",
       "      <td>No</td>\n",
       "      <td>Somewhat difficult</td>\n",
       "    </tr>\n",
       "    <tr>\n",
       "      <th>3</th>\n",
       "      <td>1003</td>\n",
       "      <td>31.0</td>\n",
       "      <td>Male</td>\n",
       "      <td>Yes</td>\n",
       "      <td>Yes</td>\n",
       "      <td>Often</td>\n",
       "      <td>No</td>\n",
       "      <td>No</td>\n",
       "      <td>No</td>\n",
       "      <td>No</td>\n",
       "      <td>No</td>\n",
       "      <td>Yes</td>\n",
       "      <td>Yes</td>\n",
       "      <td>Some of them</td>\n",
       "      <td>No</td>\n",
       "      <td>Maybe</td>\n",
       "      <td>Maybe</td>\n",
       "      <td>No</td>\n",
       "      <td>Somewhat difficult</td>\n",
       "    </tr>\n",
       "    <tr>\n",
       "      <th>4</th>\n",
       "      <td>1004</td>\n",
       "      <td>31.0</td>\n",
       "      <td>Male</td>\n",
       "      <td>No</td>\n",
       "      <td>No</td>\n",
       "      <td>Never</td>\n",
       "      <td>Yes</td>\n",
       "      <td>Yes</td>\n",
       "      <td>Don't know</td>\n",
       "      <td>Don't know</td>\n",
       "      <td>Don't know</td>\n",
       "      <td>No</td>\n",
       "      <td>No</td>\n",
       "      <td>Some of them</td>\n",
       "      <td>Yes</td>\n",
       "      <td>Yes</td>\n",
       "      <td>Yes</td>\n",
       "      <td>Don't know</td>\n",
       "      <td>Don't know</td>\n",
       "    </tr>\n",
       "  </tbody>\n",
       "</table>\n",
       "</div>"
      ],
      "text/plain": [
       "   Emp_ID   Age  Gender family_history treatment work_interfere remote_work  \\\n",
       "0    1000  37.0  Female             No       Yes          Often          No   \n",
       "1    1001  44.0    Male             No        No         Rarely          No   \n",
       "2    1002  32.0    Male             No        No         Rarely          No   \n",
       "3    1003  31.0    Male            Yes       Yes          Often          No   \n",
       "4    1004  31.0    Male             No        No          Never         Yes   \n",
       "\n",
       "     benefits wellness_program   seek_help   anonymity  \\\n",
       "0         Yes               No         Yes         Yes   \n",
       "1  Don't know       Don't know  Don't know  Don't know   \n",
       "2          No               No          No  Don't know   \n",
       "3          No               No          No          No   \n",
       "4         Yes       Don't know  Don't know  Don't know   \n",
       "\n",
       "  mental_health_consequence phys_health_consequence     coworkers supervisor  \\\n",
       "0                        No                      No  Some of them        Yes   \n",
       "1                     Maybe                      No            No         No   \n",
       "2                        No                      No           Yes        Yes   \n",
       "3                       Yes                     Yes  Some of them         No   \n",
       "4                        No                      No  Some of them        Yes   \n",
       "\n",
       "  mental_health_interview phys_health_interview mental_vs_physical  \\\n",
       "0                      No                 Maybe                Yes   \n",
       "1                      No                    No         Don't know   \n",
       "2                     Yes                   Yes                 No   \n",
       "3                   Maybe                 Maybe                 No   \n",
       "4                     Yes                   Yes         Don't know   \n",
       "\n",
       "                leave  \n",
       "0       Somewhat easy  \n",
       "1          Don't know  \n",
       "2  Somewhat difficult  \n",
       "3  Somewhat difficult  \n",
       "4          Don't know  "
      ]
     },
     "execution_count": 202,
     "metadata": {},
     "output_type": "execute_result"
    }
   ],
   "source": [
    "data.head()"
   ]
  },
  {
   "cell_type": "code",
   "execution_count": 139,
   "metadata": {},
   "outputs": [],
   "source": [
    "def mapping(data):\n",
    "    \n",
    "    Gender = {}\n",
    "    Gender['Male'] = 0 \n",
    "    Gender['Female'] = 1 \n",
    "    Gender['Others'] = 2 \n",
    "\n",
    "    data.Gender = data.Gender.map(Gender)\n",
    "        \n",
    "    family_history = {}\n",
    "    family_history['Yes'] = 1\n",
    "    family_history['No'] = 0\n",
    "    family_history[\"Don't know\"] = 2\n",
    "    \n",
    "    data.family_history = data.family_history.map(family_history)\n",
    "    data.treatment = data.treatment.map(family_history)\n",
    "    data.remote_work = data.remote_work.map(family_history)\n",
    "    data.benefits = data.benefits.map(family_history)\n",
    "    data.wellness_program = data.wellness_program.map(family_history)\n",
    "    data.seek_help = data.seek_help.map(family_history)\n",
    "    data.anonymity = data.anonymity.map(family_history)\n",
    "    data.mental_vs_physical = data.mental_vs_physical.map(family_history)\n",
    "\n",
    "    work_interfere = {}\n",
    "    work_interfere['Sometimes'] = 0\n",
    "    work_interfere['Never'] = 1\n",
    "    work_interfere['Rarely'] = 2 \n",
    "    work_interfere['Often'] = 3\n",
    "\n",
    "    data.work_interfere = data.work_interfere.map(work_interfere)\n",
    "    \n",
    "    mental_health_consequence = {}\n",
    "    mental_health_consequence['Yes'] = 1 \n",
    "    mental_health_consequence['No'] = 0 \n",
    "    mental_health_consequence['Maybe'] = 2 \n",
    "\n",
    "    data.mental_health_consequence = data.mental_health_consequence.map(mental_health_consequence)\n",
    "    data.phys_health_consequence = data.phys_health_consequence.map(mental_health_consequence)\n",
    "    data.mental_health_interview = data.mental_health_interview.map(mental_health_consequence)\n",
    "    data.phys_health_interview = data.phys_health_interview.map(mental_health_consequence)\n",
    "\n",
    "    \n",
    "    coworkers = {}\n",
    "    coworkers['Yes'] = 1 \n",
    "    coworkers['No'] = 0 \n",
    "    coworkers['Some of them'] = 2 \n",
    "\n",
    "    data.coworkers = data.coworkers.map(coworkers)\n",
    "    data.supervisor = data.supervisor.map(coworkers)\n",
    "            \n",
    "    return data\n",
    "\n",
    "data = mapping(data)"
   ]
  },
  {
   "cell_type": "code",
   "execution_count": 140,
   "metadata": {},
   "outputs": [],
   "source": [
    "leave={}\n",
    "leave['Very difficult']=10\n",
    "leave['Somewhat difficult']=30\n",
    "leave[\"Don't know\"]=50\n",
    "leave['Somewhat easy']=70\n",
    "leave['Very easy']=90\n",
    "\n",
    "data['leave'] = data['leave'].map(leave)"
   ]
  },
  {
   "cell_type": "code",
   "execution_count": 141,
   "metadata": {},
   "outputs": [
    {
     "data": {
      "text/html": [
       "<div>\n",
       "<style scoped>\n",
       "    .dataframe tbody tr th:only-of-type {\n",
       "        vertical-align: middle;\n",
       "    }\n",
       "\n",
       "    .dataframe tbody tr th {\n",
       "        vertical-align: top;\n",
       "    }\n",
       "\n",
       "    .dataframe thead th {\n",
       "        text-align: right;\n",
       "    }\n",
       "</style>\n",
       "<table border=\"1\" class=\"dataframe\">\n",
       "  <thead>\n",
       "    <tr style=\"text-align: right;\">\n",
       "      <th></th>\n",
       "      <th>Emp_ID</th>\n",
       "      <th>Age</th>\n",
       "      <th>Gender</th>\n",
       "      <th>family_history</th>\n",
       "      <th>treatment</th>\n",
       "      <th>work_interfere</th>\n",
       "      <th>remote_work</th>\n",
       "      <th>benefits</th>\n",
       "      <th>wellness_program</th>\n",
       "      <th>seek_help</th>\n",
       "      <th>anonymity</th>\n",
       "      <th>mental_health_consequence</th>\n",
       "      <th>phys_health_consequence</th>\n",
       "      <th>coworkers</th>\n",
       "      <th>supervisor</th>\n",
       "      <th>mental_health_interview</th>\n",
       "      <th>phys_health_interview</th>\n",
       "      <th>mental_vs_physical</th>\n",
       "      <th>leave</th>\n",
       "    </tr>\n",
       "  </thead>\n",
       "  <tbody>\n",
       "    <tr>\n",
       "      <th>0</th>\n",
       "      <td>1000</td>\n",
       "      <td>37.0</td>\n",
       "      <td>1</td>\n",
       "      <td>0</td>\n",
       "      <td>1</td>\n",
       "      <td>3.0</td>\n",
       "      <td>0</td>\n",
       "      <td>1</td>\n",
       "      <td>0</td>\n",
       "      <td>1</td>\n",
       "      <td>1</td>\n",
       "      <td>0</td>\n",
       "      <td>0</td>\n",
       "      <td>2</td>\n",
       "      <td>1</td>\n",
       "      <td>0</td>\n",
       "      <td>2</td>\n",
       "      <td>1</td>\n",
       "      <td>70</td>\n",
       "    </tr>\n",
       "    <tr>\n",
       "      <th>1</th>\n",
       "      <td>1001</td>\n",
       "      <td>44.0</td>\n",
       "      <td>0</td>\n",
       "      <td>0</td>\n",
       "      <td>0</td>\n",
       "      <td>2.0</td>\n",
       "      <td>0</td>\n",
       "      <td>2</td>\n",
       "      <td>2</td>\n",
       "      <td>2</td>\n",
       "      <td>2</td>\n",
       "      <td>2</td>\n",
       "      <td>0</td>\n",
       "      <td>0</td>\n",
       "      <td>0</td>\n",
       "      <td>0</td>\n",
       "      <td>0</td>\n",
       "      <td>2</td>\n",
       "      <td>50</td>\n",
       "    </tr>\n",
       "    <tr>\n",
       "      <th>2</th>\n",
       "      <td>1002</td>\n",
       "      <td>32.0</td>\n",
       "      <td>0</td>\n",
       "      <td>0</td>\n",
       "      <td>0</td>\n",
       "      <td>2.0</td>\n",
       "      <td>0</td>\n",
       "      <td>0</td>\n",
       "      <td>0</td>\n",
       "      <td>0</td>\n",
       "      <td>2</td>\n",
       "      <td>0</td>\n",
       "      <td>0</td>\n",
       "      <td>1</td>\n",
       "      <td>1</td>\n",
       "      <td>1</td>\n",
       "      <td>1</td>\n",
       "      <td>0</td>\n",
       "      <td>30</td>\n",
       "    </tr>\n",
       "    <tr>\n",
       "      <th>3</th>\n",
       "      <td>1003</td>\n",
       "      <td>31.0</td>\n",
       "      <td>0</td>\n",
       "      <td>1</td>\n",
       "      <td>1</td>\n",
       "      <td>3.0</td>\n",
       "      <td>0</td>\n",
       "      <td>0</td>\n",
       "      <td>0</td>\n",
       "      <td>0</td>\n",
       "      <td>0</td>\n",
       "      <td>1</td>\n",
       "      <td>1</td>\n",
       "      <td>2</td>\n",
       "      <td>0</td>\n",
       "      <td>2</td>\n",
       "      <td>2</td>\n",
       "      <td>0</td>\n",
       "      <td>30</td>\n",
       "    </tr>\n",
       "    <tr>\n",
       "      <th>4</th>\n",
       "      <td>1004</td>\n",
       "      <td>31.0</td>\n",
       "      <td>0</td>\n",
       "      <td>0</td>\n",
       "      <td>0</td>\n",
       "      <td>1.0</td>\n",
       "      <td>1</td>\n",
       "      <td>1</td>\n",
       "      <td>2</td>\n",
       "      <td>2</td>\n",
       "      <td>2</td>\n",
       "      <td>0</td>\n",
       "      <td>0</td>\n",
       "      <td>2</td>\n",
       "      <td>1</td>\n",
       "      <td>1</td>\n",
       "      <td>1</td>\n",
       "      <td>2</td>\n",
       "      <td>50</td>\n",
       "    </tr>\n",
       "  </tbody>\n",
       "</table>\n",
       "</div>"
      ],
      "text/plain": [
       "   Emp_ID   Age  Gender  family_history  treatment  work_interfere  \\\n",
       "0    1000  37.0       1               0          1             3.0   \n",
       "1    1001  44.0       0               0          0             2.0   \n",
       "2    1002  32.0       0               0          0             2.0   \n",
       "3    1003  31.0       0               1          1             3.0   \n",
       "4    1004  31.0       0               0          0             1.0   \n",
       "\n",
       "   remote_work  benefits  wellness_program  seek_help  anonymity  \\\n",
       "0            0         1                 0          1          1   \n",
       "1            0         2                 2          2          2   \n",
       "2            0         0                 0          0          2   \n",
       "3            0         0                 0          0          0   \n",
       "4            1         1                 2          2          2   \n",
       "\n",
       "   mental_health_consequence  phys_health_consequence  coworkers  supervisor  \\\n",
       "0                          0                        0          2           1   \n",
       "1                          2                        0          0           0   \n",
       "2                          0                        0          1           1   \n",
       "3                          1                        1          2           0   \n",
       "4                          0                        0          2           1   \n",
       "\n",
       "   mental_health_interview  phys_health_interview  mental_vs_physical  leave  \n",
       "0                        0                      2                   1     70  \n",
       "1                        0                      0                   2     50  \n",
       "2                        1                      1                   0     30  \n",
       "3                        2                      2                   0     30  \n",
       "4                        1                      1                   2     50  "
      ]
     },
     "execution_count": 141,
     "metadata": {},
     "output_type": "execute_result"
    }
   ],
   "source": [
    "data.head()"
   ]
  },
  {
   "cell_type": "markdown",
   "metadata": {},
   "source": [
    "# work interfernce"
   ]
  },
  {
   "cell_type": "code",
   "execution_count": 51,
   "metadata": {},
   "outputs": [
    {
     "name": "stdout",
     "output_type": "stream",
     "text": [
      "0.0    350\n",
      "1.0    187\n",
      "2.0    126\n",
      "3.0    105\n",
      "Name: work_interfere, dtype: int64\n",
      "35.140562248995984\n",
      "18.775100401606426\n",
      "12.650602409638553\n",
      "10.542168674698797\n",
      "---------------------------------------------------------\n",
      "0.0    108\n",
      "2.0     45\n",
      "3.0     34\n",
      "1.0     25\n",
      "Name: work_interfere, dtype: int64\n",
      "43.54838709677419\n",
      "18.14516129032258\n",
      "13.709677419354838\n",
      "10.080645161290322\n",
      "---------------------------------------------------------\n",
      "0.0    7\n",
      "3.0    5\n",
      "2.0    2\n",
      "1.0    1\n",
      "Name: work_interfere, dtype: int64\n",
      "46.666666666666664\n",
      "33.33333333333333\n",
      "13.333333333333334\n",
      "6.666666666666667\n"
     ]
    }
   ],
   "source": [
    "male=data[data['Gender']==0]\n",
    "female=data[data['Gender']==1]\n",
    "others=data[data['Gender']==2]\n",
    "\n",
    "#     work_interfere['Sometimes'] = 0\n",
    "#     work_interfere['Never'] = 1\n",
    "#     work_interfere['Rarely'] = 2 \n",
    "#     work_interfere['Often'] = 3\n",
    "\n",
    "print(male['work_interfere'].value_counts())\n",
    "for i in male['work_interfere'].value_counts():\n",
    "    print(i/male.shape[0]*100)\n",
    "print('---------------------------------------------------------')\n",
    "print(female['work_interfere'].value_counts())\n",
    "for i in female['work_interfere'].value_counts():\n",
    "    print(i/female.shape[0]*100)\n",
    "print('---------------------------------------------------------')\n",
    "print(others['work_interfere'].value_counts())\n",
    "for i in others['work_interfere'].value_counts():\n",
    "    print(i/others.shape[0]*100)"
   ]
  },
  {
   "cell_type": "markdown",
   "metadata": {},
   "source": [
    "Graphs to show which gender is more often gets Distracted or gets interefered because of their mental illness or health condition and in accordance wit the data we can be sure that people who have Gender categorised as 'Others' oftens gets distracted or interfered "
   ]
  },
  {
   "cell_type": "code",
   "execution_count": 153,
   "metadata": {},
   "outputs": [
    {
     "data": {
      "image/png": "[encoded data removed]",
      "text/plain": [
       "<Figure size 432x288 with 1 Axes>"
      ]
     },
     "metadata": {
      "needs_background": "light"
     },
     "output_type": "display_data"
    }
   ],
   "source": [
    "y=[10.54,13.70,33.33]\n",
    "x=['Male','Female','Others']\n",
    "sns.set_context(rc={\"figure.figsize\": (8, 4)})\n",
    "fig = plt.bar(x, y, color=sns.color_palette(\"Blues\",3))\n",
    "plt.legend(fig, ['Male','Female','Others'], loc = \"upper left\", title = \"cat\")\n",
    "plt.show()"
   ]
  },
  {
   "cell_type": "markdown",
   "metadata": {},
   "source": [
    "# Anonimity"
   ]
  },
  {
   "cell_type": "markdown",
   "metadata": {},
   "source": [
    "Graphs to show which gender is more insecure or concerned about their anonimity while sharing their infomormation to a third person and according to the insight we are sure that the Males are more insecure about their anonimity\n"
   ]
  },
  {
   "cell_type": "code",
   "execution_count": 152,
   "metadata": {},
   "outputs": [
    {
     "data": {
      "image/png": "[encoded data removed]",
      "text/plain": [
       "<Figure size 432x288 with 1 Axes>"
      ]
     },
     "metadata": {
      "needs_background": "light"
     },
     "output_type": "display_data"
    }
   ],
   "source": [
    "y=[48,6,6.5]\n",
    "x=['Male','Female','Others']\n",
    "sns.set_context(rc={\"figure.figsize\": (8, 4)})\n",
    "fig = plt.bar(x, y, color=sns.color_palette(\"Blues\",3))\n",
    "plt.legend(fig, ['Male','Female','Others'], loc = \"upper right\", title = \"cat\")\n",
    "plt.show()"
   ]
  },
  {
   "cell_type": "code",
   "execution_count": 52,
   "metadata": {},
   "outputs": [
    {
     "name": "stdout",
     "output_type": "stream",
     "text": [
      "2    658\n",
      "1    290\n",
      "0     48\n",
      "Name: anonymity, dtype: int64\n",
      "66.06425702811245\n",
      "29.116465863453815\n",
      "4.819277108433735\n",
      "---------------------------------------------------------\n",
      "2    154\n",
      "1     78\n",
      "0     16\n",
      "Name: anonymity, dtype: int64\n",
      "62.096774193548384\n",
      "31.451612903225808\n",
      "6.451612903225806\n",
      "---------------------------------------------------------\n",
      "2    7\n",
      "1    7\n",
      "0    1\n",
      "Name: anonymity, dtype: int64\n",
      "46.666666666666664\n",
      "46.666666666666664\n",
      "6.666666666666667\n"
     ]
    }
   ],
   "source": [
    "#     family_history['Yes'] = 1\n",
    "#     family_history['No'] = 0\n",
    "#     family_history[\"Don't know\"] = 2\n",
    "\n",
    "print(male['anonymity'].value_counts())\n",
    "for i in male['anonymity'].value_counts():\n",
    "    print(i/male.shape[0]*100)\n",
    "print('---------------------------------------------------------')\n",
    "print(female['anonymity'].value_counts())\n",
    "for i in female['anonymity'].value_counts():\n",
    "    print(i/female.shape[0]*100)\n",
    "print('---------------------------------------------------------')\n",
    "print(others['anonymity'].value_counts())\n",
    "for i in others['anonymity'].value_counts():\n",
    "    print(i/others.shape[0]*100)"
   ]
  },
  {
   "cell_type": "markdown",
   "metadata": {},
   "source": [
    "# consequence"
   ]
  },
  {
   "cell_type": "code",
   "execution_count": 166,
   "metadata": {},
   "outputs": [
    {
     "data": {
      "text/plain": [
       "40.963855421686745"
      ]
     },
     "execution_count": 166,
     "metadata": {},
     "output_type": "execute_result"
    }
   ],
   "source": [
    "male=data[data['Gender']==0]\n",
    "female=data[data['Gender']==1]\n",
    "others=data[data['Gender']==2]\n",
    "\n",
    "#     mental_health_consequence = {}\n",
    "#     mental_health_consequence['Yes'] = 1 \n",
    "#     mental_health_consequence['No'] = 0 \n",
    "#     mental_health_consequence['Maybe'] = 2 \n",
    "\n",
    "# How shy and afraid are genders to share their Mental Health to the co=ordinators\n",
    "male[(male['mental_health_consequence']==0)& (male['phys_health_consequence']==0)].shape[0]/male.shape[0]*100"
   ]
  },
  {
   "cell_type": "code",
   "execution_count": 167,
   "metadata": {},
   "outputs": [
    {
     "data": {
      "text/plain": [
       "29.03225806451613"
      ]
     },
     "execution_count": 167,
     "metadata": {},
     "output_type": "execute_result"
    }
   ],
   "source": [
    "female[(female['mental_health_consequence']==0)& (female['phys_health_consequence']==0)].shape[0]/female.shape[0]*100"
   ]
  },
  {
   "cell_type": "code",
   "execution_count": 168,
   "metadata": {},
   "outputs": [
    {
     "data": {
      "text/plain": [
       "13.333333333333334"
      ]
     },
     "execution_count": 168,
     "metadata": {},
     "output_type": "execute_result"
    }
   ],
   "source": [
    "others[(others['mental_health_consequence']==0)& (others['phys_health_consequence']==0)].shape[0]/others.shape[0]*100"
   ]
  },
  {
   "cell_type": "markdown",
   "metadata": {},
   "source": [
    "This Graphs shows that Gender with 'Others' are actually more afarid of the negative consequesnce after sharing their information about their Mental and physical health to other people."
   ]
  },
  {
   "cell_type": "code",
   "execution_count": 165,
   "metadata": {},
   "outputs": [
    {
     "data": {
      "image/png": "[encoded data removed]",
      "text/plain": [
       "<Figure size 432x288 with 1 Axes>"
      ]
     },
     "metadata": {
      "needs_background": "light"
     },
     "output_type": "display_data"
    }
   ],
   "source": [
    "y=[3.81,6.04,26.66]\n",
    "x=['Male','Female','Others']\n",
    "sns.set_context(rc={\"figure.figsize\": (8, 4)})\n",
    "fig = plt.bar(x, y, color=sns.color_palette(\"Blues\",3))\n",
    "plt.legend(fig, ['Male','Female','Others'], loc = \"upper left\", title = \"cat\")\n",
    "plt.show()"
   ]
  },
  {
   "cell_type": "markdown",
   "metadata": {},
   "source": [
    "Where as Males doesn't have an negative view towards the consequesnce after sharing their information about their Mental and physical health to other people"
   ]
  },
  {
   "cell_type": "code",
   "execution_count": 169,
   "metadata": {},
   "outputs": [
    {
     "data": {
      "image/png": "[encoded data removed]",
      "text/plain": [
       "<Figure size 432x288 with 1 Axes>"
      ]
     },
     "metadata": {
      "needs_background": "light"
     },
     "output_type": "display_data"
    }
   ],
   "source": [
    "y=[40.96,29.03,13.33]\n",
    "x=['Male','Female','Others']\n",
    "sns.set_context(rc={\"figure.figsize\": (8, 4)})\n",
    "fig = plt.bar(x, y, color=sns.color_palette(\"Blues\",3))\n",
    "plt.legend(fig, ['Male','Female','Others'], loc = \"upper right\", title = \"cat\")\n",
    "plt.show()"
   ]
  },
  {
   "cell_type": "markdown",
   "metadata": {},
   "source": [
    "# willingness to discuss"
   ]
  },
  {
   "cell_type": "code",
   "execution_count": 176,
   "metadata": {},
   "outputs": [
    {
     "data": {
      "text/plain": [
       "15.66265060240964"
      ]
     },
     "execution_count": 176,
     "metadata": {},
     "output_type": "execute_result"
    }
   ],
   "source": [
    "#     coworkers['Yes'] = 1 \n",
    "#     coworkers['No'] = 0 \n",
    "#     coworkers['Some of them'] = 2 \n",
    "\n",
    "male[(male['coworkers']==0)& (male['supervisor']==0)].shape[0]/male.shape[0]*100"
   ]
  },
  {
   "cell_type": "code",
   "execution_count": 177,
   "metadata": {},
   "outputs": [
    {
     "data": {
      "text/plain": [
       "16.129032258064516"
      ]
     },
     "execution_count": 177,
     "metadata": {},
     "output_type": "execute_result"
    }
   ],
   "source": [
    "female[(female['coworkers']==0)& (female['supervisor']==0)].shape[0]/female.shape[0]*100"
   ]
  },
  {
   "cell_type": "code",
   "execution_count": 178,
   "metadata": {},
   "outputs": [
    {
     "data": {
      "text/plain": [
       "20.0"
      ]
     },
     "execution_count": 178,
     "metadata": {},
     "output_type": "execute_result"
    }
   ],
   "source": [
    "others[(others['coworkers']==0)& (others['supervisor']==0)].shape[0]/others.shape[0]*100"
   ]
  },
  {
   "cell_type": "markdown",
   "metadata": {},
   "source": [
    "This Graphs or an insight shows that Gender with 'Others' are actually least willing to share any information to their Coworkers and Supervisor."
   ]
  },
  {
   "cell_type": "code",
   "execution_count": 181,
   "metadata": {},
   "outputs": [
    {
     "data": {
      "image/png": "[encoded data removed]",
      "text/plain": [
       "<Figure size 432x288 with 1 Axes>"
      ]
     },
     "metadata": {
      "needs_background": "light"
     },
     "output_type": "display_data"
    }
   ],
   "source": [
    "y=[15.66,16.12,20]\n",
    "x=['Male','Female','Others']\n",
    "sns.set_context(rc={\"figure.figsize\": (8, 4)})\n",
    "fig = plt.bar(x, y, color=sns.color_palette(\"Blues\",3))\n",
    "plt.legend(fig, ['Male','Female','Others'], loc = \"upper left\", title = \"cat\")\n",
    "plt.show()"
   ]
  },
  {
   "cell_type": "markdown",
   "metadata": {},
   "source": [
    "# remote_work"
   ]
  },
  {
   "cell_type": "code",
   "execution_count": 191,
   "metadata": {},
   "outputs": [],
   "source": [
    "#     family_history = {}\n",
    "#     family_history['Yes'] = 1\n",
    "#     family_history['No'] = 0\n",
    "#     family_history[\"Don't know\"] = 2\n",
    "\n",
    "remote=data[data['remote_work']==1]\n",
    "non_remote=data[data['remote_work']==0]"
   ]
  },
  {
   "cell_type": "code",
   "execution_count": 193,
   "metadata": {},
   "outputs": [
    {
     "name": "stdout",
     "output_type": "stream",
     "text": [
      "---------------------------------------------------------\n",
      "0.0    143\n",
      "1.0     56\n",
      "2.0     54\n",
      "3.0     51\n",
      "Name: work_interfere, dtype: int64\n",
      "38.03191489361702\n",
      "14.893617021276595\n",
      "14.361702127659576\n",
      "13.563829787234042\n",
      "---------------------------------------------------------\n",
      "0.0    322\n",
      "1.0    157\n",
      "2.0    119\n",
      "3.0     93\n",
      "Name: work_interfere, dtype: int64\n",
      "36.46659116647792\n",
      "17.780294450736125\n",
      "13.476783691959229\n",
      "10.532276330690827\n"
     ]
    }
   ],
   "source": [
    "#     work_interfere['Sometimes'] = 0\n",
    "#     work_interfere['Never'] = 1\n",
    "#     work_interfere['Rarely'] = 2 \n",
    "#     work_interfere['Often'] = 3\n",
    "\n",
    "print('---------------------------------------------------------')\n",
    "print(remote['work_interfere'].value_counts())\n",
    "for i in remote['work_interfere'].value_counts():\n",
    "    print(i/remote.shape[0]*100)\n",
    "print('---------------------------------------------------------')\n",
    "print(non_remote['work_interfere'].value_counts())\n",
    "for i in non_remote['work_interfere'].value_counts():\n",
    "    print(i/non_remote.shape[0]*100)"
   ]
  },
  {
   "cell_type": "markdown",
   "metadata": {},
   "source": [
    "Employess who are not remotely working are less pron to get distracted or interfered in there work."
   ]
  },
  {
   "cell_type": "code",
   "execution_count": 197,
   "metadata": {},
   "outputs": [
    {
     "data": {
      "image/png": "[encoded data removed]",
      "text/plain": [
       "<Figure size 432x288 with 1 Axes>"
      ]
     },
     "metadata": {
      "needs_background": "light"
     },
     "output_type": "display_data"
    }
   ],
   "source": [
    "y=[14.89,17.78]\n",
    "x=['remote','non_remote']\n",
    "sns.set_context(rc={\"figure.figsize\": (8, 4)})\n",
    "fig = plt.bar(x, y, color=sns.color_palette(\"Blues\",2))\n",
    "plt.legend(fig, ['remote','non_remote'], loc = \"upper left\", title = \"cat\")\n",
    "plt.show()"
   ]
  },
  {
   "cell_type": "code",
   "execution_count": 198,
   "metadata": {},
   "outputs": [
    {
     "data": {
      "text/html": [
       "<div>\n",
       "<style scoped>\n",
       "    .dataframe tbody tr th:only-of-type {\n",
       "        vertical-align: middle;\n",
       "    }\n",
       "\n",
       "    .dataframe tbody tr th {\n",
       "        vertical-align: top;\n",
       "    }\n",
       "\n",
       "    .dataframe thead th {\n",
       "        text-align: right;\n",
       "    }\n",
       "</style>\n",
       "<table border=\"1\" class=\"dataframe\">\n",
       "  <thead>\n",
       "    <tr style=\"text-align: right;\">\n",
       "      <th></th>\n",
       "      <th>Emp_ID</th>\n",
       "      <th>Age</th>\n",
       "      <th>Gender</th>\n",
       "      <th>family_history</th>\n",
       "      <th>treatment</th>\n",
       "      <th>work_interfere</th>\n",
       "      <th>remote_work</th>\n",
       "      <th>benefits</th>\n",
       "      <th>wellness_program</th>\n",
       "      <th>seek_help</th>\n",
       "      <th>anonymity</th>\n",
       "      <th>mental_health_consequence</th>\n",
       "      <th>phys_health_consequence</th>\n",
       "      <th>coworkers</th>\n",
       "      <th>supervisor</th>\n",
       "      <th>mental_health_interview</th>\n",
       "      <th>phys_health_interview</th>\n",
       "      <th>mental_vs_physical</th>\n",
       "      <th>leave</th>\n",
       "    </tr>\n",
       "  </thead>\n",
       "  <tbody>\n",
       "    <tr>\n",
       "      <th>0</th>\n",
       "      <td>1000</td>\n",
       "      <td>37.0</td>\n",
       "      <td>1</td>\n",
       "      <td>0</td>\n",
       "      <td>1</td>\n",
       "      <td>3.0</td>\n",
       "      <td>0</td>\n",
       "      <td>1</td>\n",
       "      <td>0</td>\n",
       "      <td>1</td>\n",
       "      <td>1</td>\n",
       "      <td>0</td>\n",
       "      <td>0</td>\n",
       "      <td>2</td>\n",
       "      <td>1</td>\n",
       "      <td>0</td>\n",
       "      <td>2</td>\n",
       "      <td>1</td>\n",
       "      <td>70</td>\n",
       "    </tr>\n",
       "    <tr>\n",
       "      <th>1</th>\n",
       "      <td>1001</td>\n",
       "      <td>44.0</td>\n",
       "      <td>0</td>\n",
       "      <td>0</td>\n",
       "      <td>0</td>\n",
       "      <td>2.0</td>\n",
       "      <td>0</td>\n",
       "      <td>2</td>\n",
       "      <td>2</td>\n",
       "      <td>2</td>\n",
       "      <td>2</td>\n",
       "      <td>2</td>\n",
       "      <td>0</td>\n",
       "      <td>0</td>\n",
       "      <td>0</td>\n",
       "      <td>0</td>\n",
       "      <td>0</td>\n",
       "      <td>2</td>\n",
       "      <td>50</td>\n",
       "    </tr>\n",
       "    <tr>\n",
       "      <th>2</th>\n",
       "      <td>1002</td>\n",
       "      <td>32.0</td>\n",
       "      <td>0</td>\n",
       "      <td>0</td>\n",
       "      <td>0</td>\n",
       "      <td>2.0</td>\n",
       "      <td>0</td>\n",
       "      <td>0</td>\n",
       "      <td>0</td>\n",
       "      <td>0</td>\n",
       "      <td>2</td>\n",
       "      <td>0</td>\n",
       "      <td>0</td>\n",
       "      <td>1</td>\n",
       "      <td>1</td>\n",
       "      <td>1</td>\n",
       "      <td>1</td>\n",
       "      <td>0</td>\n",
       "      <td>30</td>\n",
       "    </tr>\n",
       "    <tr>\n",
       "      <th>3</th>\n",
       "      <td>1003</td>\n",
       "      <td>31.0</td>\n",
       "      <td>0</td>\n",
       "      <td>1</td>\n",
       "      <td>1</td>\n",
       "      <td>3.0</td>\n",
       "      <td>0</td>\n",
       "      <td>0</td>\n",
       "      <td>0</td>\n",
       "      <td>0</td>\n",
       "      <td>0</td>\n",
       "      <td>1</td>\n",
       "      <td>1</td>\n",
       "      <td>2</td>\n",
       "      <td>0</td>\n",
       "      <td>2</td>\n",
       "      <td>2</td>\n",
       "      <td>0</td>\n",
       "      <td>30</td>\n",
       "    </tr>\n",
       "    <tr>\n",
       "      <th>4</th>\n",
       "      <td>1004</td>\n",
       "      <td>31.0</td>\n",
       "      <td>0</td>\n",
       "      <td>0</td>\n",
       "      <td>0</td>\n",
       "      <td>1.0</td>\n",
       "      <td>1</td>\n",
       "      <td>1</td>\n",
       "      <td>2</td>\n",
       "      <td>2</td>\n",
       "      <td>2</td>\n",
       "      <td>0</td>\n",
       "      <td>0</td>\n",
       "      <td>2</td>\n",
       "      <td>1</td>\n",
       "      <td>1</td>\n",
       "      <td>1</td>\n",
       "      <td>2</td>\n",
       "      <td>50</td>\n",
       "    </tr>\n",
       "  </tbody>\n",
       "</table>\n",
       "</div>"
      ],
      "text/plain": [
       "   Emp_ID   Age  Gender  family_history  treatment  work_interfere  \\\n",
       "0    1000  37.0       1               0          1             3.0   \n",
       "1    1001  44.0       0               0          0             2.0   \n",
       "2    1002  32.0       0               0          0             2.0   \n",
       "3    1003  31.0       0               1          1             3.0   \n",
       "4    1004  31.0       0               0          0             1.0   \n",
       "\n",
       "   remote_work  benefits  wellness_program  seek_help  anonymity  \\\n",
       "0            0         1                 0          1          1   \n",
       "1            0         2                 2          2          2   \n",
       "2            0         0                 0          0          2   \n",
       "3            0         0                 0          0          0   \n",
       "4            1         1                 2          2          2   \n",
       "\n",
       "   mental_health_consequence  phys_health_consequence  coworkers  supervisor  \\\n",
       "0                          0                        0          2           1   \n",
       "1                          2                        0          0           0   \n",
       "2                          0                        0          1           1   \n",
       "3                          1                        1          2           0   \n",
       "4                          0                        0          2           1   \n",
       "\n",
       "   mental_health_interview  phys_health_interview  mental_vs_physical  leave  \n",
       "0                        0                      2                   1     70  \n",
       "1                        0                      0                   2     50  \n",
       "2                        1                      1                   0     30  \n",
       "3                        2                      2                   0     30  \n",
       "4                        1                      1                   2     50  "
      ]
     },
     "execution_count": 198,
     "metadata": {},
     "output_type": "execute_result"
    }
   ],
   "source": [
    "# else\n",
    "data.head()"
   ]
  }
 ],
 "metadata": {
  "kernelspec": {
   "display_name": "Python 3",
   "language": "python",
   "name": "python3"
  },
  "language_info": {
   "codemirror_mode": {
    "name": "ipython",
    "version": 3
   },
   "file_extension": ".py",
   "mimetype": "text/x-python",
   "name": "python",
   "nbconvert_exporter": "python",
   "pygments_lexer": "ipython3",
   "version": "3.7.3"
  }
 },
 "nbformat": 4,
 "nbformat_minor": 2
}
